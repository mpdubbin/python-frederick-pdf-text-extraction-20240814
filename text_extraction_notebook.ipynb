{
 "cells": [
  {
   "cell_type": "markdown",
   "id": "c8d12b96-d5cf-43b0-a102-e609dc45ef25",
   "metadata": {},
   "source": [
    "# Functional Text Extraction \n",
    "## Summary\n",
    "In this notebook, we will go over some of the tools that can be used to extract text from various formats. Text will be extracted from PDFs, docx and tables embedded in PDF documents. The techniques in this notebook are just some of many that exist but should provide a basic flow for how to do this sort of work to structure unstructured data for use in a database or other friendly format. \n",
    "\n",
    "## Introduction\n",
    "Often, storage formats selected by non-technical users do not conform to good practices for sharing or long term storage. For this reason, there are many different tools that have been developed in languages like Python that can help us pull data out of these unfriendly formats. \n",
    "\n",
    "PDFs are often selected as a storage format as PDFs are a portable format. This means that a PDF generated on one machine will always look the same on a second computer regardless of how it was generated or how it is being viewed. Especially with the advent of the PDF/A (PDF/archive) format, people use PDFs as a means for long term storage of critical data.  \n",
    "\n",
    "This howerver, results in a lot of headaches for developers. PDFs, by nature, are often flattened and can be inaccessible to machines. In some instances, they are essentially flat images stored as PDFs that cannot be read by a machine. In other cases, they are machine readable but can be difficult to work with. \n",
    "\n",
    "## Purpose\n",
    "I have had to use many of these techniques in order to structure unstructured data for work. The end goal usually was to get the data into a state where I could share it with an end user or get the data uploaded into a database. "
   ]
  },
  {
   "cell_type": "markdown",
   "id": "95f87be1-868d-4c57-afae-2b96291531b7",
   "metadata": {},
   "source": [
    "## The Basic Flow\n",
    "The hardest part of working with PDFs if getting the data out of the PDFs. \n",
    "\n",
    "This is the basic flow of how I usually approach any PDF that I have to strucutre: \n"
   ]
  },
  {
   "cell_type": "markdown",
   "id": "288224c4-3510-4a39-afb3-0d60a988f58f",
   "metadata": {},
   "source": [
    "\n",
    "\n",
    "## Environment Setup\n",
    "\n",
    "### PyMuPDF\n",
    "\n",
    "### Tabula\n",
    "https://stackoverflow.com/questions/54817211/java-command-is-not-found-from-this-python-process-please-ensure-java-is-inst\n",
    "\n",
    "### opencv aka CV2\n",
    "\n",
    "### Tesseract\n",
    "https://stackoverflow.com/questions/46140485/tesseract-installation-in-windows\n",
    "https://github.com/UB-Mannheim/tesseract/wiki\n",
    "\n",
    "### PyTesseract\n",
    "\n"
   ]
  }
 ],
 "metadata": {
  "kernelspec": {
   "display_name": "Python 3 (ipykernel)",
   "language": "python",
   "name": "python3"
  },
  "language_info": {
   "codemirror_mode": {
    "name": "ipython",
    "version": 3
   },
   "file_extension": ".py",
   "mimetype": "text/x-python",
   "name": "python",
   "nbconvert_exporter": "python",
   "pygments_lexer": "ipython3",
   "version": "3.11.7"
  }
 },
 "nbformat": 4,
 "nbformat_minor": 5
}
